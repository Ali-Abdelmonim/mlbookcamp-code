{
 "cells": [
  {
   "cell_type": "markdown",
   "id": "efficient-tiffany",
   "metadata": {},
   "source": [
    "## Session #1 Homework"
   ]
  },
  {
   "cell_type": "markdown",
   "id": "contained-voluntary",
   "metadata": {},
   "source": [
    "### Set up the environment\n",
    "\n",
    "You need to install Python, NumPy, Pandas, Matplotlib and Seaborn. For that, you can the instructions from [06-environment.md](06-environment.md)."
   ]
  },
  {
   "cell_type": "code",
   "execution_count": 1,
   "id": "dramatic-lighting",
   "metadata": {},
   "outputs": [],
   "source": [
    "import numpy as np\n",
    "import pandas as pd\n",
    "import seaborn as sns"
   ]
  },
  {
   "cell_type": "markdown",
   "id": "based-error",
   "metadata": {},
   "source": [
    "### Question 1\n",
    "\n",
    "What's the version of NumPy that you installed? \n",
    "\n",
    "You can get the version information using the `__version__` field:\n",
    "\n",
    "```python\n",
    "np.__version__\n",
    "```"
   ]
  },
  {
   "cell_type": "code",
   "execution_count": 2,
   "id": "conventional-laugh",
   "metadata": {},
   "outputs": [
    {
     "data": {
      "text/plain": [
       "'1.19.5'"
      ]
     },
     "execution_count": 2,
     "metadata": {},
     "output_type": "execute_result"
    }
   ],
   "source": [
    "np.__version__"
   ]
  },
  {
   "cell_type": "markdown",
   "id": "rapid-house",
   "metadata": {},
   "source": [
    "### Question 2\n",
    "\n",
    "What's the version of Pandas? "
   ]
  },
  {
   "cell_type": "code",
   "execution_count": 3,
   "id": "valued-guide",
   "metadata": {},
   "outputs": [
    {
     "data": {
      "text/plain": [
       "'1.2.2'"
      ]
     },
     "execution_count": 3,
     "metadata": {},
     "output_type": "execute_result"
    }
   ],
   "source": [
    "pd.__version__"
   ]
  },
  {
   "cell_type": "markdown",
   "id": "bulgarian-lodging",
   "metadata": {},
   "source": [
    "### Getting the data \n",
    "\n",
    "For this homework, we'll use the same dataset as for the next session - the car price dataset.\n",
    "\n",
    "Download it from [here](https://raw.githubusercontent.com/alexeygrigorev/mlbookcamp-code/master/chapter-02-car-price/data.csv).\n",
    "\n",
    "You can do it with wget:\n",
    "\n",
    "```bash\n",
    "wget https://raw.githubusercontent.com/alexeygrigorev/mlbookcamp-code/master/chapter-02-car-price/data.csv\n",
    "```\n",
    "\n",
    "Or just open it with your browser and click \"Save as...\".\n",
    "\n",
    "Now read it with Pandas. "
   ]
  },
  {
   "cell_type": "code",
   "execution_count": 4,
   "id": "signed-geometry",
   "metadata": {},
   "outputs": [
    {
     "data": {
      "text/html": [
       "<div>\n",
       "<style scoped>\n",
       "    .dataframe tbody tr th:only-of-type {\n",
       "        vertical-align: middle;\n",
       "    }\n",
       "\n",
       "    .dataframe tbody tr th {\n",
       "        vertical-align: top;\n",
       "    }\n",
       "\n",
       "    .dataframe thead th {\n",
       "        text-align: right;\n",
       "    }\n",
       "</style>\n",
       "<table border=\"1\" class=\"dataframe\">\n",
       "  <thead>\n",
       "    <tr style=\"text-align: right;\">\n",
       "      <th></th>\n",
       "      <th>Make</th>\n",
       "      <th>Model</th>\n",
       "      <th>Year</th>\n",
       "      <th>Engine Fuel Type</th>\n",
       "      <th>Engine HP</th>\n",
       "      <th>Engine Cylinders</th>\n",
       "      <th>Transmission Type</th>\n",
       "      <th>Driven_Wheels</th>\n",
       "      <th>Number of Doors</th>\n",
       "      <th>Market Category</th>\n",
       "      <th>Vehicle Size</th>\n",
       "      <th>Vehicle Style</th>\n",
       "      <th>highway MPG</th>\n",
       "      <th>city mpg</th>\n",
       "      <th>Popularity</th>\n",
       "      <th>MSRP</th>\n",
       "    </tr>\n",
       "  </thead>\n",
       "  <tbody>\n",
       "    <tr>\n",
       "      <th>0</th>\n",
       "      <td>BMW</td>\n",
       "      <td>1 Series M</td>\n",
       "      <td>2011</td>\n",
       "      <td>premium unleaded (required)</td>\n",
       "      <td>335.0</td>\n",
       "      <td>6.0</td>\n",
       "      <td>MANUAL</td>\n",
       "      <td>rear wheel drive</td>\n",
       "      <td>2.0</td>\n",
       "      <td>Factory Tuner,Luxury,High-Performance</td>\n",
       "      <td>Compact</td>\n",
       "      <td>Coupe</td>\n",
       "      <td>26</td>\n",
       "      <td>19</td>\n",
       "      <td>3916</td>\n",
       "      <td>46135</td>\n",
       "    </tr>\n",
       "  </tbody>\n",
       "</table>\n",
       "</div>"
      ],
      "text/plain": [
       "  Make       Model  Year             Engine Fuel Type  Engine HP  \\\n",
       "0  BMW  1 Series M  2011  premium unleaded (required)      335.0   \n",
       "\n",
       "   Engine Cylinders Transmission Type     Driven_Wheels  Number of Doors  \\\n",
       "0               6.0            MANUAL  rear wheel drive              2.0   \n",
       "\n",
       "                         Market Category Vehicle Size Vehicle Style  \\\n",
       "0  Factory Tuner,Luxury,High-Performance      Compact         Coupe   \n",
       "\n",
       "   highway MPG  city mpg  Popularity   MSRP  \n",
       "0           26        19        3916  46135  "
      ]
     },
     "execution_count": 4,
     "metadata": {},
     "output_type": "execute_result"
    }
   ],
   "source": [
    "df = pd.read_csv('data.csv')\n",
    "df.head(1)"
   ]
  },
  {
   "cell_type": "markdown",
   "id": "controversial-shock",
   "metadata": {},
   "source": [
    "### Question 3\n",
    "\n",
    "What's the average price of BMW cars in the dataset?"
   ]
  },
  {
   "cell_type": "code",
   "execution_count": 5,
   "id": "junior-continuity",
   "metadata": {},
   "outputs": [
    {
     "data": {
      "text/plain": [
       "61546.76347305389"
      ]
     },
     "execution_count": 5,
     "metadata": {},
     "output_type": "execute_result"
    }
   ],
   "source": [
    "df[df['Make'] == 'BMW'].MSRP.mean()"
   ]
  },
  {
   "cell_type": "markdown",
   "id": "efficient-third",
   "metadata": {},
   "source": [
    "### Question 4\n",
    "\n",
    "Select a subset of cars after year 2015 (inclusive, i.e. 2015 and after). How many of them have missing values for Engine HP?"
   ]
  },
  {
   "cell_type": "code",
   "execution_count": 6,
   "id": "cardiovascular-parade",
   "metadata": {},
   "outputs": [
    {
     "data": {
      "text/plain": [
       "51"
      ]
     },
     "execution_count": 6,
     "metadata": {},
     "output_type": "execute_result"
    }
   ],
   "source": [
    "df[df['Year']>= 2015]['Engine HP'].isna().sum()"
   ]
  },
  {
   "cell_type": "markdown",
   "id": "earlier-device",
   "metadata": {},
   "source": [
    "### Question 5\n",
    "\n",
    "* Calculate the average \"Engine HP\" in the dataset. \n",
    "* Use the `fillna` method and to fill the missing values in \"Engine HP\" with the mean value from the previous step. \n",
    "* Now, calcualte the average of \"Engine HP\" again.\n",
    "* Has it changed? \n",
    "\n",
    "Round both means before answering this questions. You can use the `round` function for that:\n",
    "\n",
    "```python\n",
    "print(round(mean_hp_before))\n",
    "print(round(mean_hp_after))\n",
    "```"
   ]
  },
  {
   "cell_type": "code",
   "execution_count": 7,
   "id": "important-lover",
   "metadata": {},
   "outputs": [
    {
     "name": "stdout",
     "output_type": "stream",
     "text": [
      "249\n",
      "249\n"
     ]
    }
   ],
   "source": [
    "mean_hp_before = df['Engine HP'].mean()\n",
    "df['Engine HP'].fillna(mean_hp_before)\n",
    "mean_hp_after = df['Engine HP'].mean()\n",
    "\n",
    "print(round(mean_hp_before))\n",
    "print(round(mean_hp_after))"
   ]
  },
  {
   "cell_type": "markdown",
   "id": "distinct-sweden",
   "metadata": {},
   "source": [
    "### Question 6\n",
    "\n",
    "* Select all the \"Rolls-Royce\" cars from the dataset.\n",
    "* Select only columns \"Engine HP\", \"Engine Cylinders\", \"highway MPG\".\n",
    "* Now drop all duplicated rows using `drop_duplicates` method (you should get a dataframe with 7 rows).\n",
    "* Get the underlying NumPy array. Let's call it `X`.\n",
    "* Compute matrix-matrix multiplication between the transpose of `X` and `X`. To get the transpose, use `X.T`. Let's call the result `XTX`.\n",
    "* Invert `XTX`.\n",
    "* What's the sum of all the elements of the result?\n",
    "\n",
    "Hint: if the result is negative, re-read the task one more time"
   ]
  },
  {
   "cell_type": "code",
   "execution_count": 8,
   "id": "alike-fifty",
   "metadata": {},
   "outputs": [
    {
     "data": {
      "text/plain": [
       "0.032212320677486125"
      ]
     },
     "execution_count": 8,
     "metadata": {},
     "output_type": "execute_result"
    }
   ],
   "source": [
    "rolls_royce = df[df['Make'] == 'Rolls-Royce'][[\"Engine HP\", \"Engine Cylinders\", \"highway MPG\"]]\n",
    "rolls_royce.drop_duplicates(inplace=True)\n",
    "\n",
    "X = rolls_royce.values\n",
    "XTX = X.T.dot(X)\n",
    "XTX_inv = np.linalg.inv(XTX)\n",
    "XTX_inv.sum()"
   ]
  },
  {
   "cell_type": "markdown",
   "id": "central-satisfaction",
   "metadata": {},
   "source": [
    "### Questions 7 \n",
    "\n",
    "* Create an array `y` with values `[1000, 1100, 900, 1200, 1000, 850, 1300]`.\n",
    "* Multiply the inverse of `XTX` with the transpose of `X`, and then multiply the result by `y`. Call the result `w`.\n",
    "* What's the value of the first element of `w`?.\n",
    "\n",
    "> **Note**: You just implemented linear regression. We'll talk about it in the next lesson."
   ]
  },
  {
   "cell_type": "code",
   "execution_count": 9,
   "id": "dental-cincinnati",
   "metadata": {},
   "outputs": [
    {
     "data": {
      "text/plain": [
       "array([ 0.19989598, 31.02612262, 31.65378877])"
      ]
     },
     "execution_count": 9,
     "metadata": {},
     "output_type": "execute_result"
    }
   ],
   "source": [
    "y = [1000, 1100, 900, 1200, 1000, 850, 1300]\n",
    "w = XTX_inv.dot(X.T).dot(y)\n",
    "w"
   ]
  },
  {
   "cell_type": "markdown",
   "id": "piano-experience",
   "metadata": {},
   "source": [
    "## Submit the results\n",
    "\n",
    "Submit your results here: https://forms.gle/aiunQqRtqcay8Wwo9.\n",
    "\n",
    "If your answer doesn't match options exactly, select the closest one.\n",
    "\n",
    "\n",
    "## Deadline\n",
    "\n",
    "The deadline for submitting is 13 September 2021, 17:00 CET. After that, the form will be closed.\n",
    "\n",
    "\n",
    "## Navigation\n",
    "\n",
    "* [Machine Learning Zoomcamp course](../)\n",
    "* [Lesson 1: Introduction to Machine Learning](./)\n",
    "* Previous: [Summary](10-summary.md)"
   ]
  }
 ],
 "metadata": {
  "kernelspec": {
   "display_name": "Python 3",
   "language": "python",
   "name": "python3"
  },
  "language_info": {
   "codemirror_mode": {
    "name": "ipython",
    "version": 3
   },
   "file_extension": ".py",
   "mimetype": "text/x-python",
   "name": "python",
   "nbconvert_exporter": "python",
   "pygments_lexer": "ipython3",
   "version": "3.7.10"
  }
 },
 "nbformat": 4,
 "nbformat_minor": 5
}
