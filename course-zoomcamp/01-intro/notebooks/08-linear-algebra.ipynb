{
 "cells": [
  {
   "cell_type": "markdown",
   "id": "laughing-profile",
   "metadata": {},
   "source": [
    "# Machine Learning Zoomcamp\n",
    "\n",
    "## 1.8 Linear algebra refresher"
   ]
  },
  {
   "cell_type": "markdown",
   "id": "wireless-magazine",
   "metadata": {},
   "source": [
    "Plan:\n",
    "\n",
    "* Vector operations\n",
    "* Multiplication\n",
    "    * Vector-vector multiplication\n",
    "    * Matrix-vector multiplication\n",
    "    * Matrix-matrix multiplication\n",
    "* Identity matrix\n",
    "* Inverse"
   ]
  },
  {
   "cell_type": "code",
   "execution_count": 1,
   "id": "domestic-simon",
   "metadata": {},
   "outputs": [],
   "source": [
    "import numpy as np"
   ]
  },
  {
   "cell_type": "markdown",
   "id": "broadband-bacteria",
   "metadata": {},
   "source": [
    "## Vector operations"
   ]
  },
  {
   "cell_type": "code",
   "execution_count": 2,
   "id": "generous-confusion",
   "metadata": {},
   "outputs": [],
   "source": [
    "u = np.array([2, 4, 5, 6])"
   ]
  },
  {
   "cell_type": "code",
   "execution_count": 6,
   "id": "domestic-proof",
   "metadata": {},
   "outputs": [
    {
     "data": {
      "text/plain": [
       "array([ 4,  8, 10, 12])"
      ]
     },
     "execution_count": 6,
     "metadata": {},
     "output_type": "execute_result"
    }
   ],
   "source": [
    "2 * u"
   ]
  },
  {
   "cell_type": "code",
   "execution_count": 4,
   "id": "missing-constraint",
   "metadata": {},
   "outputs": [],
   "source": [
    "v = np.array([1, 0, 0, 2])"
   ]
  },
  {
   "cell_type": "code",
   "execution_count": 5,
   "id": "actual-birmingham",
   "metadata": {},
   "outputs": [
    {
     "data": {
      "text/plain": [
       "array([3, 4, 5, 8])"
      ]
     },
     "execution_count": 5,
     "metadata": {},
     "output_type": "execute_result"
    }
   ],
   "source": [
    "u + v"
   ]
  },
  {
   "cell_type": "code",
   "execution_count": 7,
   "id": "concrete-thing",
   "metadata": {},
   "outputs": [
    {
     "data": {
      "text/plain": [
       "array([ 2,  0,  0, 12])"
      ]
     },
     "execution_count": 7,
     "metadata": {},
     "output_type": "execute_result"
    }
   ],
   "source": [
    "u * v"
   ]
  },
  {
   "cell_type": "markdown",
   "id": "removable-master",
   "metadata": {},
   "source": [
    "## Multiplication"
   ]
  },
  {
   "cell_type": "code",
   "execution_count": 10,
   "id": "sexual-trick",
   "metadata": {},
   "outputs": [
    {
     "data": {
      "text/plain": [
       "4"
      ]
     },
     "execution_count": 10,
     "metadata": {},
     "output_type": "execute_result"
    }
   ],
   "source": [
    "v.shape[0]"
   ]
  },
  {
   "cell_type": "code",
   "execution_count": 11,
   "id": "changing-manor",
   "metadata": {},
   "outputs": [],
   "source": [
    "def vector_vector_multiplication(u, v):\n",
    "    assert u.shape[0] == v.shape[0]\n",
    "    \n",
    "    n = u.shape[0]\n",
    "    \n",
    "    result = 0.0\n",
    "\n",
    "    for i in range(n):\n",
    "        result = result + u[i] * v[i]\n",
    "    \n",
    "    return result"
   ]
  },
  {
   "cell_type": "code",
   "execution_count": 12,
   "id": "remarkable-quebec",
   "metadata": {},
   "outputs": [
    {
     "data": {
      "text/plain": [
       "14.0"
      ]
     },
     "execution_count": 12,
     "metadata": {},
     "output_type": "execute_result"
    }
   ],
   "source": [
    "vector_vector_multiplication(u, v)"
   ]
  },
  {
   "cell_type": "code",
   "execution_count": 13,
   "id": "horizontal-kruger",
   "metadata": {},
   "outputs": [
    {
     "data": {
      "text/plain": [
       "14"
      ]
     },
     "execution_count": 13,
     "metadata": {},
     "output_type": "execute_result"
    }
   ],
   "source": [
    "u.dot(v)"
   ]
  },
  {
   "cell_type": "code",
   "execution_count": 14,
   "id": "prepared-optimum",
   "metadata": {},
   "outputs": [],
   "source": [
    "U = np.array([\n",
    "    [2, 4, 5, 6],\n",
    "    [1, 2, 1, 2],\n",
    "    [3, 1, 2, 1],\n",
    "])"
   ]
  },
  {
   "cell_type": "code",
   "execution_count": 16,
   "id": "objective-panel",
   "metadata": {},
   "outputs": [
    {
     "data": {
      "text/plain": [
       "(3, 4)"
      ]
     },
     "execution_count": 16,
     "metadata": {},
     "output_type": "execute_result"
    }
   ],
   "source": [
    "U.shape"
   ]
  },
  {
   "cell_type": "code",
   "execution_count": 17,
   "id": "racial-contrast",
   "metadata": {},
   "outputs": [],
   "source": [
    "def matrix_vector_multiplication(U, v):\n",
    "    assert U.shape[1] == v.shape[0]\n",
    "    \n",
    "    num_rows = U.shape[0]\n",
    "    \n",
    "    result = np.zeros(num_rows)\n",
    "    \n",
    "    for i in range(num_rows):\n",
    "        result[i] = vector_vector_multiplication(U[i], v)\n",
    "    \n",
    "    return result"
   ]
  },
  {
   "cell_type": "code",
   "execution_count": 18,
   "id": "recent-mitchell",
   "metadata": {},
   "outputs": [
    {
     "data": {
      "text/plain": [
       "array([14.,  5.,  5.])"
      ]
     },
     "execution_count": 18,
     "metadata": {},
     "output_type": "execute_result"
    }
   ],
   "source": [
    "matrix_vector_multiplication(U, v)"
   ]
  },
  {
   "cell_type": "code",
   "execution_count": 19,
   "id": "pointed-ballot",
   "metadata": {},
   "outputs": [
    {
     "data": {
      "text/plain": [
       "array([14,  5,  5])"
      ]
     },
     "execution_count": 19,
     "metadata": {},
     "output_type": "execute_result"
    }
   ],
   "source": [
    "U.dot(v)"
   ]
  },
  {
   "cell_type": "code",
   "execution_count": 20,
   "id": "encouraging-georgia",
   "metadata": {},
   "outputs": [],
   "source": [
    "V = np.array([\n",
    "    [1, 1, 2],\n",
    "    [0, 0.5, 1], \n",
    "    [0, 2, 1],\n",
    "    [2, 1, 0],\n",
    "])"
   ]
  },
  {
   "cell_type": "code",
   "execution_count": 21,
   "id": "terminal-investing",
   "metadata": {},
   "outputs": [],
   "source": [
    "def matrix_matrix_multiplication(U, V):\n",
    "    assert U.shape[1] == V.shape[0]\n",
    "    \n",
    "    num_rows = U.shape[0]\n",
    "    num_cols = V.shape[1]\n",
    "    \n",
    "    result = np.zeros((num_rows, num_cols))\n",
    "    \n",
    "    for i in range(num_cols):\n",
    "        vi = V[:, i]\n",
    "        Uvi = matrix_vector_multiplication(U, vi)\n",
    "        result[:, i] = Uvi\n",
    "    \n",
    "    return result"
   ]
  },
  {
   "cell_type": "code",
   "execution_count": 22,
   "id": "reduced-index",
   "metadata": {},
   "outputs": [
    {
     "data": {
      "text/plain": [
       "array([[14. , 20. , 13. ],\n",
       "       [ 5. ,  6. ,  5. ],\n",
       "       [ 5. ,  8.5,  9. ]])"
      ]
     },
     "execution_count": 22,
     "metadata": {},
     "output_type": "execute_result"
    }
   ],
   "source": [
    "matrix_matrix_multiplication(U, V)"
   ]
  },
  {
   "cell_type": "code",
   "execution_count": 23,
   "id": "available-relay",
   "metadata": {},
   "outputs": [
    {
     "data": {
      "text/plain": [
       "array([[14. , 20. , 13. ],\n",
       "       [ 5. ,  6. ,  5. ],\n",
       "       [ 5. ,  8.5,  9. ]])"
      ]
     },
     "execution_count": 23,
     "metadata": {},
     "output_type": "execute_result"
    }
   ],
   "source": [
    "U.dot(V)"
   ]
  },
  {
   "cell_type": "markdown",
   "id": "valuable-western",
   "metadata": {},
   "source": [
    "## Identity matrix"
   ]
  },
  {
   "cell_type": "code",
   "execution_count": 25,
   "id": "automotive-preserve",
   "metadata": {},
   "outputs": [],
   "source": [
    "I = np.eye(3)"
   ]
  },
  {
   "cell_type": "code",
   "execution_count": 28,
   "id": "worse-transparency",
   "metadata": {},
   "outputs": [
    {
     "data": {
      "text/plain": [
       "array([[1. , 1. , 2. ],\n",
       "       [0. , 0.5, 1. ],\n",
       "       [0. , 2. , 1. ],\n",
       "       [2. , 1. , 0. ]])"
      ]
     },
     "execution_count": 28,
     "metadata": {},
     "output_type": "execute_result"
    }
   ],
   "source": [
    "V"
   ]
  },
  {
   "cell_type": "code",
   "execution_count": 27,
   "id": "union-intent",
   "metadata": {},
   "outputs": [
    {
     "data": {
      "text/plain": [
       "array([[1. , 1. , 2. ],\n",
       "       [0. , 0.5, 1. ],\n",
       "       [0. , 2. , 1. ],\n",
       "       [2. , 1. , 0. ]])"
      ]
     },
     "execution_count": 27,
     "metadata": {},
     "output_type": "execute_result"
    }
   ],
   "source": [
    "V.dot(I)"
   ]
  },
  {
   "cell_type": "markdown",
   "id": "wanted-frank",
   "metadata": {},
   "source": [
    "## Inverse"
   ]
  },
  {
   "cell_type": "code",
   "execution_count": 31,
   "id": "behavioral-consciousness",
   "metadata": {},
   "outputs": [
    {
     "data": {
      "text/plain": [
       "array([[1. , 1. , 2. ],\n",
       "       [0. , 0.5, 1. ],\n",
       "       [0. , 2. , 1. ]])"
      ]
     },
     "execution_count": 31,
     "metadata": {},
     "output_type": "execute_result"
    }
   ],
   "source": [
    "Vs = V[[0, 1, 2]]\n",
    "Vs"
   ]
  },
  {
   "cell_type": "code",
   "execution_count": 33,
   "id": "adolescent-stability",
   "metadata": {
    "scrolled": true
   },
   "outputs": [
    {
     "data": {
      "text/plain": [
       "array([[ 1.        , -2.        ,  0.        ],\n",
       "       [ 0.        , -0.66666667,  0.66666667],\n",
       "       [ 0.        ,  1.33333333, -0.33333333]])"
      ]
     },
     "execution_count": 33,
     "metadata": {},
     "output_type": "execute_result"
    }
   ],
   "source": [
    "Vs_inv = np.linalg.inv(Vs)\n",
    "Vs_inv"
   ]
  },
  {
   "cell_type": "code",
   "execution_count": 34,
   "id": "exciting-closer",
   "metadata": {},
   "outputs": [
    {
     "data": {
      "text/plain": [
       "array([[1., 0., 0.],\n",
       "       [0., 1., 0.],\n",
       "       [0., 0., 1.]])"
      ]
     },
     "execution_count": 34,
     "metadata": {},
     "output_type": "execute_result"
    }
   ],
   "source": [
    "Vs_inv.dot(Vs)"
   ]
  },
  {
   "cell_type": "markdown",
   "id": "earlier-marks",
   "metadata": {},
   "source": [
    "### Next \n",
    "\n",
    "Intro to Pandas"
   ]
  },
  {
   "cell_type": "code",
   "execution_count": null,
   "id": "straight-singer",
   "metadata": {},
   "outputs": [],
   "source": []
  }
 ],
 "metadata": {
  "kernelspec": {
   "display_name": "Python 3",
   "language": "python",
   "name": "python3"
  },
  "language_info": {
   "codemirror_mode": {
    "name": "ipython",
    "version": 3
   },
   "file_extension": ".py",
   "mimetype": "text/x-python",
   "name": "python",
   "nbconvert_exporter": "python",
   "pygments_lexer": "ipython3",
   "version": "3.7.10"
  }
 },
 "nbformat": 4,
 "nbformat_minor": 5
}
